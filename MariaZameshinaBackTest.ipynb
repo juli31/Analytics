{
 "cells": [
  {
   "cell_type": "code",
   "execution_count": 28,
   "metadata": {
    "collapsed": false
   },
   "outputs": [],
   "source": [
    "import numpy as np"
   ]
  },
  {
   "cell_type": "code",
   "execution_count": 29,
   "metadata": {
    "collapsed": false
   },
   "outputs": [],
   "source": [
    "#загрузка массива данных \n",
    "close = np.load('close.npy')\n",
    "# array([ 76.3 ,  76.15,  76.26, ...,  91.9 ,  91.82,  91.89])\n",
    "time = np.load('time.npy', encoding='bytes')\n",
    "N = 1000\n",
    "#число рассматриваемых событий\n",
    "\n",
    "# array([datetime.datetime(2016, 9, 1, 10, 0), ...], dtype=object)"
   ]
  },
  {
   "cell_type": "code",
   "execution_count": 30,
   "metadata": {
    "collapsed": false
   },
   "outputs": [],
   "source": [
    "#вновь поступившее событие, характеристики -- время, цена закрытия\n",
    "class event():\n",
    "    time = time[0]\n",
    "    close = close[0]\n",
    "    hour = 0\n",
    "    day = 0"
   ]
  },
  {
   "cell_type": "code",
   "execution_count": 31,
   "metadata": {
    "collapsed": false
   },
   "outputs": [],
   "source": [
    "#работа со временем\n",
    "t1 = time[0]\n",
    "t2 = time[0]"
   ]
  },
  {
   "cell_type": "code",
   "execution_count": 32,
   "metadata": {
    "collapsed": false
   },
   "outputs": [],
   "source": [
    "#массив рассматриваемых событий\n",
    "ev = event()\n",
    "ev.time = time[0]\n",
    "ev.close = close[0]\n",
    "ev.hour = ev.time.hour\n",
    "ev.day = ev.time.day\n",
    "main_array = [ev for i in range(0,N)]"
   ]
  },
  {
   "cell_type": "code",
   "execution_count": 33,
   "metadata": {
    "collapsed": true
   },
   "outputs": [],
   "source": [
    "#Вспомогательные функции\n",
    "\n",
    "#средняя цена закрытия в час для k событий, для конкретно выбранного события с номером i в массиве\n",
    "def houraverageclose (i, k):\n",
    "    sum = 0\n",
    "    num = 0\n",
    "    for j in (0, k-1):\n",
    "        if main_array[j].hour == main_array[i].hour:\n",
    "            sum+= main_array[j].close\n",
    "            ++num\n",
    "    return sum/num\n",
    "    \n",
    "#cредняя цена закрытия в день для k событий\n",
    "def dayaverageclose (i, k):\n",
    "    sum = 0\n",
    "    num = 0\n",
    "    for j in (0, k-1):\n",
    "        if main_array[j].day == main_array[i].day:\n",
    "            sum+= main_array[j].close\n",
    "            ++num\n",
    "    return sum/num\n",
    "\n",
    "\n",
    "#количество прошедших часов \n",
    "def hnum(number_of_time_periods):\n",
    "    ans = 1\n",
    "    for i in range (1, number_of_time_periods-1):\n",
    "        if main_array[i].hour != main_array[i-1].hour:\n",
    "            ++ans\n",
    "    return ans\n",
    "\n",
    "def daynum(number_of_time_periods):\n",
    "    ans = 1\n",
    "    for i in range (1, number_of_time_periods-1):\n",
    "        if main_array[i].day != main_array[i-1].day:\n",
    "            ++ans\n",
    "    return ans\n",
    "\n",
    "def day(i):\n",
    "    return main_array[i].day\n",
    "\n",
    "def hour(i):\n",
    "    return main_array[i].hour\n",
    "\n",
    "averagehourarray = [houraverageclose(0, N) for j in range (0,hnum(N)-1)]\n",
    "averagedayarray = [dayaverageclose(0, N) for j in range (0,daynum(N)-1)]\n",
    "for j in range(1,N-1):\n",
    "    j1 = 0\n",
    "    j2 = 0\n",
    "    if main_array[j].hour != main_array[j-1].hour:\n",
    "        ++j1\n",
    "        averagehourarray[j1] = houraverageclose(j,N-1)\n",
    "    if main_array[j].day != main_array[j-1].day:\n",
    "        ++j2\n",
    "        averagedayarray[j2] = dayaverageclose(j,N-1)"
   ]
  },
  {
   "cell_type": "code",
   "execution_count": 34,
   "metadata": {
    "collapsed": false
   },
   "outputs": [],
   "source": [
    "#блок реализации определенной стратегии\n",
    "def alpha_hours(number_of_time_periods):\n",
    "    return 2/(hnum(number_of_time_periods)+1)\n",
    "\n",
    "def alpha_days(number_of_time_periods):\n",
    "    return 2/(daynum(number_of_time_periods)+1)\n",
    "\n",
    "def ema_hour(i, k):\n",
    "    if (i == 0):\n",
    "        return 0\n",
    "    else:\n",
    "        return alpha_hours(k)*averagehourarray[i].close+(1-alpha_hours)*averagehourarray[i-1]\n",
    "\n",
    "def dma_hour(i,k):\n",
    "    if (i == 0):\n",
    "        return 0\n",
    "    else:\n",
    "        return alpha_hours(k)*ema_hour(i,k)+(1-alpha_hours(k))*dma_hour(i-1,k)\n",
    "\n",
    "def tma_hour(i,k):\n",
    "    if (i == 0):\n",
    "        return 0\n",
    "    else:\n",
    "        return alpha_hours(k)*dma_hour(i,k)+(1-alpha_hours(k))*tma_hour(i-1,k)\n",
    "\n",
    "def trix_hour(i,k):\n",
    "    if (i==0):\n",
    "        return 0\n",
    "    else:\n",
    "        return (tma_hour(i,k) - tma_hour(i-1,k))/tma_hour(i-1,k)*100\n",
    "\n",
    "def ema_day(i,k):\n",
    "    if (i == 0):\n",
    "        return 0\n",
    "    else:\n",
    "        return alpha_days(k)*averagedayarray[i].close+(1-alpha_days(k))*averagedayarray[i-1]\n",
    "\n",
    "def dma_day(i,k):\n",
    "    if (i == 0):\n",
    "        return 0\n",
    "    else:\n",
    "        return alpha_days(k)*ema_day(i,k)+(1-alpha_days(k))*dma_day(i-1,k)\n",
    "\n",
    "def tma_day(i,k):\n",
    "    if (i == 0):\n",
    "        return 0\n",
    "    else:\n",
    "        return alpha_days(k)*dma_day(i,k)+(1-alpha_days(k))*tma_day(i-1,k)\n",
    "\n",
    "def trix_day(i,k):\n",
    "    if (i==0):\n",
    "        return 0\n",
    "    else:\n",
    "        return (tma_day(i,k) - tma_day(i-1,k))/tma_day(i-1,k)*100 \n",
    "\n",
    "#стратегия Trix принятия решений в момент времени i\n",
    "def strategy (i):\n",
    "    if ((trix_day(day(i-2),i-1) > trix_day(day(i-1),i-1) & (trix(hour(i-2),i-1) < trix(hour(i-1),i-1)))):\n",
    "        print main_array[i].time, \"buy\"\n",
    "        return 1\n",
    "    elif (trix_day(day(i-2),i-1) > trix_day(day(i-1),i-1)) & (trix(hour(i-2),i-1) >= trix(hour(i-1),i-1)):\n",
    "        print main_array[i].time,\"close position\"\n",
    "        return 0\n",
    "    elif (trix_day(day(i-2),i-1) < trix_day(day(i-1),i-1)) & (trix(hour(i-2),i-1) < trix(hour(i-1),i-1)):\n",
    "        print main_array[i].time,\"close position\"\n",
    "        return 0\n",
    "    elif (trix_day(day(i-2),i-1) > trix_day(day(i-1),i-1)) & (trix(hour(i-2),i-1) >= trix(hour(i-1),i-1)):\n",
    "        print main_array[i].time,\"sell\"\n",
    "        return -1"
   ]
  },
  {
   "cell_type": "code",
   "execution_count": 35,
   "metadata": {
    "collapsed": false
   },
   "outputs": [],
   "source": [
    "#инициализация произвольной стратегии на массиве событий\n",
    "def strategy_init(k):\n",
    "    ev = event()\n",
    "    for i in (0, k-1):\n",
    "        ev.time= time[i];\n",
    "        ev.close = close[i]\n",
    "        ev.hour = time[i].hour\n",
    "        ev.day = time[i].day\n",
    "        main_array[i] = ev\n",
    "    return strategy(k)"
   ]
  },
  {
   "cell_type": "code",
   "execution_count": 36,
   "metadata": {
    "collapsed": false
   },
   "outputs": [],
   "source": [
    "#основной цикл программы\n",
    "def main_cycle():\n",
    "    profit = 0\n",
    "    buy = 0\n",
    "    i = 20\n",
    "    res = strategy_init(i)\n",
    "    while i < N:\n",
    "        if (buy == 1) and (res== 1):\n",
    "            profit += main_array[i].close - main_array[i-1].close\n",
    "        elif (buy == 1) and (res == 0):\n",
    "            buy = 0\n",
    "        elif (buy == 1) and (res == -1):\n",
    "            buy = -1\n",
    "            profit += -main_array[i].close + main_array[i-1].close\n",
    "        elif (buy == -1) and (res == 1):\n",
    "            buy = 1\n",
    "            profit += main_array[i].close - main_array[i-1].close\n",
    "        elif (buy == -1 ) and (res == -1):\n",
    "            profit += -main_array[i].close + main_array[i-1].close\n",
    "        elif (buy == -1) and (res == 0):\n",
    "            buy = 0\n",
    "        elif (buy == 0) and (res == 0):\n",
    "            buy = 0\n",
    "        elif (buy == 0) and (res == 1):\n",
    "            buy = 1\n",
    "            profit += main_array[i].close - main_array[i-1].close\n",
    "        elif (buy == 0) and  (res == -1):\n",
    "            buy = -1\n",
    "            profit += -main_array[i].close + main_array[i-1].close\n",
    "        ++i\n",
    "    return profit"
   ]
  },
  {
   "cell_type": "code",
   "execution_count": 37,
   "metadata": {
    "collapsed": false
   },
   "outputs": [
    {
     "ename": "IndexError",
     "evalue": "list index out of range",
     "output_type": "error",
     "traceback": [
      "\u001b[0;31m---------------------------------------------------------------------------\u001b[0m",
      "\u001b[0;31mIndexError\u001b[0m                                Traceback (most recent call last)",
      "\u001b[0;32m<ipython-input-37-cb7954f8f9d8>\u001b[0m in \u001b[0;36m<module>\u001b[0;34m()\u001b[0m\n\u001b[0;32m----> 1\u001b[0;31m \u001b[0mmain_cycle\u001b[0m\u001b[1;33m(\u001b[0m\u001b[1;33m)\u001b[0m\u001b[1;33m\u001b[0m\u001b[0m\n\u001b[0m",
      "\u001b[0;32m<ipython-input-36-8ccb33806cb9>\u001b[0m in \u001b[0;36mmain_cycle\u001b[0;34m()\u001b[0m\n\u001b[1;32m      4\u001b[0m     \u001b[0mbuy\u001b[0m \u001b[1;33m=\u001b[0m \u001b[1;36m0\u001b[0m\u001b[1;33m\u001b[0m\u001b[0m\n\u001b[1;32m      5\u001b[0m     \u001b[0mi\u001b[0m \u001b[1;33m=\u001b[0m \u001b[1;36m20\u001b[0m\u001b[1;33m\u001b[0m\u001b[0m\n\u001b[0;32m----> 6\u001b[0;31m     \u001b[0mres\u001b[0m \u001b[1;33m=\u001b[0m \u001b[0mstrategy_init\u001b[0m\u001b[1;33m(\u001b[0m\u001b[0mi\u001b[0m\u001b[1;33m)\u001b[0m\u001b[1;33m\u001b[0m\u001b[0m\n\u001b[0m\u001b[1;32m      7\u001b[0m     \u001b[1;32mwhile\u001b[0m \u001b[0mi\u001b[0m \u001b[1;33m<\u001b[0m \u001b[0mN\u001b[0m\u001b[1;33m:\u001b[0m\u001b[1;33m\u001b[0m\u001b[0m\n\u001b[1;32m      8\u001b[0m         \u001b[1;32mif\u001b[0m \u001b[1;33m(\u001b[0m\u001b[0mbuy\u001b[0m \u001b[1;33m==\u001b[0m \u001b[1;36m1\u001b[0m\u001b[1;33m)\u001b[0m \u001b[1;32mand\u001b[0m \u001b[1;33m(\u001b[0m\u001b[0mres\u001b[0m\u001b[1;33m==\u001b[0m \u001b[1;36m1\u001b[0m\u001b[1;33m)\u001b[0m\u001b[1;33m:\u001b[0m\u001b[1;33m\u001b[0m\u001b[0m\n",
      "\u001b[0;32m<ipython-input-35-52c49470ba63>\u001b[0m in \u001b[0;36mstrategy_init\u001b[0;34m(k)\u001b[0m\n\u001b[1;32m      8\u001b[0m         \u001b[0mev\u001b[0m\u001b[1;33m.\u001b[0m\u001b[0mday\u001b[0m \u001b[1;33m=\u001b[0m \u001b[0mtime\u001b[0m\u001b[1;33m[\u001b[0m\u001b[0mi\u001b[0m\u001b[1;33m]\u001b[0m\u001b[1;33m.\u001b[0m\u001b[0mday\u001b[0m\u001b[1;33m\u001b[0m\u001b[0m\n\u001b[1;32m      9\u001b[0m         \u001b[0mmain_array\u001b[0m\u001b[1;33m[\u001b[0m\u001b[0mi\u001b[0m\u001b[1;33m]\u001b[0m \u001b[1;33m=\u001b[0m \u001b[0mev\u001b[0m\u001b[1;33m\u001b[0m\u001b[0m\n\u001b[0;32m---> 10\u001b[0;31m     \u001b[1;32mreturn\u001b[0m \u001b[0mstrategy\u001b[0m\u001b[1;33m(\u001b[0m\u001b[0mk\u001b[0m\u001b[1;33m)\u001b[0m\u001b[1;33m\u001b[0m\u001b[0m\n\u001b[0m",
      "\u001b[0;32m<ipython-input-34-a2f4950de6ab>\u001b[0m in \u001b[0;36mstrategy\u001b[0;34m(i)\u001b[0m\n\u001b[1;32m     56\u001b[0m \u001b[1;31m#стратегия Trix принятия решений в момент времени i\u001b[0m\u001b[1;33m\u001b[0m\u001b[1;33m\u001b[0m\u001b[0m\n\u001b[1;32m     57\u001b[0m \u001b[1;32mdef\u001b[0m \u001b[0mstrategy\u001b[0m \u001b[1;33m(\u001b[0m\u001b[0mi\u001b[0m\u001b[1;33m)\u001b[0m\u001b[1;33m:\u001b[0m\u001b[1;33m\u001b[0m\u001b[0m\n\u001b[0;32m---> 58\u001b[0;31m     \u001b[1;32mif\u001b[0m \u001b[1;33m(\u001b[0m\u001b[1;33m(\u001b[0m\u001b[0mtrix_day\u001b[0m\u001b[1;33m(\u001b[0m\u001b[0mday\u001b[0m\u001b[1;33m(\u001b[0m\u001b[0mi\u001b[0m\u001b[1;33m-\u001b[0m\u001b[1;36m2\u001b[0m\u001b[1;33m)\u001b[0m\u001b[1;33m,\u001b[0m\u001b[0mi\u001b[0m\u001b[1;33m-\u001b[0m\u001b[1;36m1\u001b[0m\u001b[1;33m)\u001b[0m \u001b[1;33m>\u001b[0m \u001b[0mtrix_day\u001b[0m\u001b[1;33m(\u001b[0m\u001b[0mday\u001b[0m\u001b[1;33m(\u001b[0m\u001b[0mi\u001b[0m\u001b[1;33m-\u001b[0m\u001b[1;36m1\u001b[0m\u001b[1;33m)\u001b[0m\u001b[1;33m,\u001b[0m\u001b[0mi\u001b[0m\u001b[1;33m-\u001b[0m\u001b[1;36m1\u001b[0m\u001b[1;33m)\u001b[0m \u001b[1;33m&\u001b[0m \u001b[1;33m(\u001b[0m\u001b[0mtrix\u001b[0m\u001b[1;33m(\u001b[0m\u001b[0mhour\u001b[0m\u001b[1;33m(\u001b[0m\u001b[0mi\u001b[0m\u001b[1;33m-\u001b[0m\u001b[1;36m2\u001b[0m\u001b[1;33m)\u001b[0m\u001b[1;33m,\u001b[0m\u001b[0mi\u001b[0m\u001b[1;33m-\u001b[0m\u001b[1;36m1\u001b[0m\u001b[1;33m)\u001b[0m \u001b[1;33m<\u001b[0m \u001b[0mtrix\u001b[0m\u001b[1;33m(\u001b[0m\u001b[0mhour\u001b[0m\u001b[1;33m(\u001b[0m\u001b[0mi\u001b[0m\u001b[1;33m-\u001b[0m\u001b[1;36m1\u001b[0m\u001b[1;33m)\u001b[0m\u001b[1;33m,\u001b[0m\u001b[0mi\u001b[0m\u001b[1;33m-\u001b[0m\u001b[1;36m1\u001b[0m\u001b[1;33m)\u001b[0m\u001b[1;33m)\u001b[0m\u001b[1;33m)\u001b[0m\u001b[1;33m)\u001b[0m\u001b[1;33m:\u001b[0m\u001b[1;33m\u001b[0m\u001b[0m\n\u001b[0m\u001b[1;32m     59\u001b[0m         \u001b[1;32mprint\u001b[0m \u001b[0mmain_array\u001b[0m\u001b[1;33m[\u001b[0m\u001b[0mi\u001b[0m\u001b[1;33m]\u001b[0m\u001b[1;33m.\u001b[0m\u001b[0mtime\u001b[0m\u001b[1;33m,\u001b[0m \u001b[1;34m\"buy\"\u001b[0m\u001b[1;33m\u001b[0m\u001b[0m\n\u001b[1;32m     60\u001b[0m         \u001b[1;32mreturn\u001b[0m \u001b[1;36m1\u001b[0m\u001b[1;33m\u001b[0m\u001b[0m\n",
      "\u001b[0;32m<ipython-input-34-a2f4950de6ab>\u001b[0m in \u001b[0;36mtrix_day\u001b[0;34m(i, k)\u001b[0m\n\u001b[1;32m     52\u001b[0m         \u001b[1;32mreturn\u001b[0m \u001b[1;36m0\u001b[0m\u001b[1;33m\u001b[0m\u001b[0m\n\u001b[1;32m     53\u001b[0m     \u001b[1;32melse\u001b[0m\u001b[1;33m:\u001b[0m\u001b[1;33m\u001b[0m\u001b[0m\n\u001b[0;32m---> 54\u001b[0;31m         \u001b[1;32mreturn\u001b[0m \u001b[1;33m(\u001b[0m\u001b[0mtma_day\u001b[0m\u001b[1;33m(\u001b[0m\u001b[0mi\u001b[0m\u001b[1;33m,\u001b[0m\u001b[0mk\u001b[0m\u001b[1;33m)\u001b[0m \u001b[1;33m-\u001b[0m \u001b[0mtma_day\u001b[0m\u001b[1;33m(\u001b[0m\u001b[0mi\u001b[0m\u001b[1;33m-\u001b[0m\u001b[1;36m1\u001b[0m\u001b[1;33m,\u001b[0m\u001b[0mk\u001b[0m\u001b[1;33m)\u001b[0m\u001b[1;33m)\u001b[0m\u001b[1;33m/\u001b[0m\u001b[0mtma_day\u001b[0m\u001b[1;33m(\u001b[0m\u001b[0mi\u001b[0m\u001b[1;33m-\u001b[0m\u001b[1;36m1\u001b[0m\u001b[1;33m,\u001b[0m\u001b[0mk\u001b[0m\u001b[1;33m)\u001b[0m\u001b[1;33m*\u001b[0m\u001b[1;36m100\u001b[0m\u001b[1;33m\u001b[0m\u001b[0m\n\u001b[0m\u001b[1;32m     55\u001b[0m \u001b[1;33m\u001b[0m\u001b[0m\n\u001b[1;32m     56\u001b[0m \u001b[1;31m#стратегия Trix принятия решений в момент времени i\u001b[0m\u001b[1;33m\u001b[0m\u001b[1;33m\u001b[0m\u001b[0m\n",
      "\u001b[0;32m<ipython-input-34-a2f4950de6ab>\u001b[0m in \u001b[0;36mtma_day\u001b[0;34m(i, k)\u001b[0m\n\u001b[1;32m     46\u001b[0m         \u001b[1;32mreturn\u001b[0m \u001b[1;36m0\u001b[0m\u001b[1;33m\u001b[0m\u001b[0m\n\u001b[1;32m     47\u001b[0m     \u001b[1;32melse\u001b[0m\u001b[1;33m:\u001b[0m\u001b[1;33m\u001b[0m\u001b[0m\n\u001b[0;32m---> 48\u001b[0;31m         \u001b[1;32mreturn\u001b[0m \u001b[0malpha_days\u001b[0m\u001b[1;33m(\u001b[0m\u001b[0mk\u001b[0m\u001b[1;33m)\u001b[0m\u001b[1;33m*\u001b[0m\u001b[0mdma_day\u001b[0m\u001b[1;33m(\u001b[0m\u001b[0mi\u001b[0m\u001b[1;33m,\u001b[0m\u001b[0mk\u001b[0m\u001b[1;33m)\u001b[0m\u001b[1;33m+\u001b[0m\u001b[1;33m(\u001b[0m\u001b[1;36m1\u001b[0m\u001b[1;33m-\u001b[0m\u001b[0malpha_days\u001b[0m\u001b[1;33m(\u001b[0m\u001b[0mk\u001b[0m\u001b[1;33m)\u001b[0m\u001b[1;33m)\u001b[0m\u001b[1;33m*\u001b[0m\u001b[0mtma_day\u001b[0m\u001b[1;33m(\u001b[0m\u001b[0mi\u001b[0m\u001b[1;33m-\u001b[0m\u001b[1;36m1\u001b[0m\u001b[1;33m,\u001b[0m\u001b[0mk\u001b[0m\u001b[1;33m)\u001b[0m\u001b[1;33m\u001b[0m\u001b[0m\n\u001b[0m\u001b[1;32m     49\u001b[0m \u001b[1;33m\u001b[0m\u001b[0m\n\u001b[1;32m     50\u001b[0m \u001b[1;32mdef\u001b[0m \u001b[0mtrix_day\u001b[0m\u001b[1;33m(\u001b[0m\u001b[0mi\u001b[0m\u001b[1;33m,\u001b[0m\u001b[0mk\u001b[0m\u001b[1;33m)\u001b[0m\u001b[1;33m:\u001b[0m\u001b[1;33m\u001b[0m\u001b[0m\n",
      "\u001b[0;32m<ipython-input-34-a2f4950de6ab>\u001b[0m in \u001b[0;36mdma_day\u001b[0;34m(i, k)\u001b[0m\n\u001b[1;32m     40\u001b[0m         \u001b[1;32mreturn\u001b[0m \u001b[1;36m0\u001b[0m\u001b[1;33m\u001b[0m\u001b[0m\n\u001b[1;32m     41\u001b[0m     \u001b[1;32melse\u001b[0m\u001b[1;33m:\u001b[0m\u001b[1;33m\u001b[0m\u001b[0m\n\u001b[0;32m---> 42\u001b[0;31m         \u001b[1;32mreturn\u001b[0m \u001b[0malpha_days\u001b[0m\u001b[1;33m(\u001b[0m\u001b[0mk\u001b[0m\u001b[1;33m)\u001b[0m\u001b[1;33m*\u001b[0m\u001b[0mema_day\u001b[0m\u001b[1;33m(\u001b[0m\u001b[0mi\u001b[0m\u001b[1;33m,\u001b[0m\u001b[0mk\u001b[0m\u001b[1;33m)\u001b[0m\u001b[1;33m+\u001b[0m\u001b[1;33m(\u001b[0m\u001b[1;36m1\u001b[0m\u001b[1;33m-\u001b[0m\u001b[0malpha_days\u001b[0m\u001b[1;33m(\u001b[0m\u001b[0mk\u001b[0m\u001b[1;33m)\u001b[0m\u001b[1;33m)\u001b[0m\u001b[1;33m*\u001b[0m\u001b[0mdma_day\u001b[0m\u001b[1;33m(\u001b[0m\u001b[0mi\u001b[0m\u001b[1;33m-\u001b[0m\u001b[1;36m1\u001b[0m\u001b[1;33m,\u001b[0m\u001b[0mk\u001b[0m\u001b[1;33m)\u001b[0m\u001b[1;33m\u001b[0m\u001b[0m\n\u001b[0m\u001b[1;32m     43\u001b[0m \u001b[1;33m\u001b[0m\u001b[0m\n\u001b[1;32m     44\u001b[0m \u001b[1;32mdef\u001b[0m \u001b[0mtma_day\u001b[0m\u001b[1;33m(\u001b[0m\u001b[0mi\u001b[0m\u001b[1;33m,\u001b[0m\u001b[0mk\u001b[0m\u001b[1;33m)\u001b[0m\u001b[1;33m:\u001b[0m\u001b[1;33m\u001b[0m\u001b[0m\n",
      "\u001b[0;32m<ipython-input-34-a2f4950de6ab>\u001b[0m in \u001b[0;36mema_day\u001b[0;34m(i, k)\u001b[0m\n\u001b[1;32m     34\u001b[0m         \u001b[1;32mreturn\u001b[0m \u001b[1;36m0\u001b[0m\u001b[1;33m\u001b[0m\u001b[0m\n\u001b[1;32m     35\u001b[0m     \u001b[1;32melse\u001b[0m\u001b[1;33m:\u001b[0m\u001b[1;33m\u001b[0m\u001b[0m\n\u001b[0;32m---> 36\u001b[0;31m         \u001b[1;32mreturn\u001b[0m \u001b[0malpha_days\u001b[0m\u001b[1;33m(\u001b[0m\u001b[0mk\u001b[0m\u001b[1;33m)\u001b[0m\u001b[1;33m*\u001b[0m\u001b[0maveragedayarray\u001b[0m\u001b[1;33m[\u001b[0m\u001b[0mi\u001b[0m\u001b[1;33m]\u001b[0m\u001b[1;33m.\u001b[0m\u001b[0mclose\u001b[0m\u001b[1;33m+\u001b[0m\u001b[1;33m(\u001b[0m\u001b[1;36m1\u001b[0m\u001b[1;33m-\u001b[0m\u001b[0malpha_days\u001b[0m\u001b[1;33m(\u001b[0m\u001b[0mk\u001b[0m\u001b[1;33m)\u001b[0m\u001b[1;33m)\u001b[0m\u001b[1;33m*\u001b[0m\u001b[0maveragedayarray\u001b[0m\u001b[1;33m[\u001b[0m\u001b[0mi\u001b[0m\u001b[1;33m-\u001b[0m\u001b[1;36m1\u001b[0m\u001b[1;33m]\u001b[0m\u001b[1;33m\u001b[0m\u001b[0m\n\u001b[0m\u001b[1;32m     37\u001b[0m \u001b[1;33m\u001b[0m\u001b[0m\n\u001b[1;32m     38\u001b[0m \u001b[1;32mdef\u001b[0m \u001b[0mdma_day\u001b[0m\u001b[1;33m(\u001b[0m\u001b[0mi\u001b[0m\u001b[1;33m,\u001b[0m\u001b[0mk\u001b[0m\u001b[1;33m)\u001b[0m\u001b[1;33m:\u001b[0m\u001b[1;33m\u001b[0m\u001b[0m\n",
      "\u001b[0;31mIndexError\u001b[0m: list index out of range"
     ]
    }
   ],
   "source": [
    "main_cycle()"
   ]
  },
  {
   "cell_type": "code",
   "execution_count": null,
   "metadata": {
    "collapsed": true
   },
   "outputs": [],
   "source": []
  },
  {
   "cell_type": "code",
   "execution_count": null,
   "metadata": {
    "collapsed": true
   },
   "outputs": [],
   "source": []
  },
  {
   "cell_type": "code",
   "execution_count": null,
   "metadata": {
    "collapsed": true
   },
   "outputs": [],
   "source": []
  },
  {
   "cell_type": "code",
   "execution_count": null,
   "metadata": {
    "collapsed": true
   },
   "outputs": [],
   "source": []
  },
  {
   "cell_type": "code",
   "execution_count": null,
   "metadata": {
    "collapsed": true
   },
   "outputs": [],
   "source": []
  }
 ],
 "metadata": {
  "anaconda-cloud": {},
  "kernelspec": {
   "display_name": "Python [default]",
   "language": "python",
   "name": "python2"
  },
  "language_info": {
   "codemirror_mode": {
    "name": "ipython",
    "version": 2
   },
   "file_extension": ".py",
   "mimetype": "text/x-python",
   "name": "python",
   "nbconvert_exporter": "python",
   "pygments_lexer": "ipython2",
   "version": "2.7.12"
  }
 },
 "nbformat": 4,
 "nbformat_minor": 1
}
